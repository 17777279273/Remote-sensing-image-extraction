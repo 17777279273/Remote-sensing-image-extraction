{
 "cells": [
  {
   "cell_type": "markdown",
   "metadata": {},
   "source": [
    "# 飞桨常规赛：遥感影像地块分割 - 12月第6名方案\n",
    "## 赛题任务\n",
    "本赛题旨在对遥感影像进行像素级内容解析，并对遥感影像中感兴趣的类别进行提取和分类，以衡量遥感影像地块分割模型在多个类别（如建筑、道路、林地等）上的效果。\n",
    "\n",
    "## 数据说明\n",
    "本赛题提供了多个地区已脱敏的遥感影像数据，各参赛选手可以基于这些数据构建自己的地块分割模型。\n",
    "\n",
    "## 训练数据集\n",
    "样例图片及其标注如下图所示：\n",
    "![](https://ai-studio-static-online.cdn.bcebos.com/61920df9736a47f1b3d7764e28720bb199ac0b07caa84185a1f96a2f426d710b)\n",
    "\n",
    "训练数据集文件名称：train_and_label.zip\n",
    "包含2个子文件，分别为：训练数据集（原始图片）文件、训练数据集（标注图片）文件，详细介绍如下：\n",
    "\n",
    "    训练数据集（原始图片）文件名称：img_train\n",
    "    包含66,653张分辨率为2m/pixel，尺寸为256 * 256的JPG图片，每张图片的名称形如T000123.jpg。\n",
    "\n",
    "    训练数据集（标注图片）文件名称：lab_train\n",
    "    包含66,653张分辨率为2m/pixel，尺寸为256 * 256的PNG图片，每张图片的名称形如T000123.png。\n",
    "    备注： 全部PNG图片共包括4种分类，像素值分别为0、1、2、3。此外，像素值255为未标注区域，表示对应区域的所属类别并不确定，在评测中也不会考虑这部分区域。\n",
    "\n",
    "测试数据集\n",
    "\n",
    "测试数据集文件名称：img_test.zip，详细介绍如下：\n",
    "包含4,609张分辨率为2m/pixel，尺寸为256 * 256的JPG图片，文件名称形如123.jpg。\n"
   ]
  },
  {
   "cell_type": "markdown",
   "metadata": {},
   "source": [
    "# 下载PaddleSeg套件"
   ]
  },
  {
   "cell_type": "code",
   "execution_count": null,
   "metadata": {
    "scrolled": true
   },
   "outputs": [],
   "source": [
    "# 下载paddlesegv2.1版本\r\n",
    "!git clone -b release/2.1 https://gitee.com/paddlepaddle/PaddleSeg.git"
   ]
  },
  {
   "cell_type": "markdown",
   "metadata": {},
   "source": [
    "# 一、数据准备"
   ]
  },
  {
   "cell_type": "markdown",
   "metadata": {},
   "source": [
    "## 1.1 解压数据"
   ]
  },
  {
   "cell_type": "code",
   "execution_count": 1,
   "metadata": {
    "collapsed": false,
    "execution": {
     "iopub.execute_input": "2022-01-19T06:28:30.125218Z",
     "iopub.status.busy": "2022-01-19T06:28:30.125000Z",
     "iopub.status.idle": "2022-01-19T06:28:59.380958Z",
     "shell.execute_reply": "2022-01-19T06:28:59.380264Z",
     "shell.execute_reply.started": "2022-01-19T06:28:30.125192Z"
    },
    "jupyter": {
     "outputs_hidden": false
    },
    "scrolled": true
   },
   "outputs": [],
   "source": [
    "!unzip -oq /home/aistudio/data/data80164/train_and_label.zip"
   ]
  },
  {
   "cell_type": "code",
   "execution_count": 2,
   "metadata": {
    "collapsed": false,
    "execution": {
     "iopub.execute_input": "2022-01-19T06:28:59.383303Z",
     "iopub.status.busy": "2022-01-19T06:28:59.382794Z",
     "iopub.status.idle": "2022-01-19T06:29:00.062870Z",
     "shell.execute_reply": "2022-01-19T06:29:00.062007Z",
     "shell.execute_reply.started": "2022-01-19T06:28:59.383274Z"
    },
    "jupyter": {
     "outputs_hidden": false
    },
    "scrolled": true
   },
   "outputs": [],
   "source": [
    "!unzip -oq /home/aistudio/data/data80164/img_test.zip"
   ]
  },
  {
   "cell_type": "code",
   "execution_count": 4,
   "metadata": {
    "collapsed": false,
    "execution": {
     "iopub.execute_input": "2022-01-19T06:30:19.144573Z",
     "iopub.status.busy": "2022-01-19T06:30:19.144231Z",
     "iopub.status.idle": "2022-01-19T06:30:19.149742Z",
     "shell.execute_reply": "2022-01-19T06:30:19.149172Z",
     "shell.execute_reply.started": "2022-01-19T06:30:19.144543Z"
    },
    "jupyter": {
     "outputs_hidden": false
    },
    "scrolled": true
   },
   "outputs": [
    {
     "name": "stdout",
     "output_type": "stream",
     "text": [
      "/home/aistudio\n"
     ]
    }
   ],
   "source": [
    "%cd ~"
   ]
  },
  {
   "cell_type": "markdown",
   "metadata": {},
   "source": [
    "## 1.2 对遥感地块分割的训练集、划分训练集、验证集"
   ]
  },
  {
   "cell_type": "code",
   "execution_count": 5,
   "metadata": {
    "collapsed": false,
    "execution": {
     "iopub.execute_input": "2022-01-19T06:30:19.150901Z",
     "iopub.status.busy": "2022-01-19T06:30:19.150637Z",
     "iopub.status.idle": "2022-01-19T06:30:19.872756Z",
     "shell.execute_reply": "2022-01-19T06:30:19.872051Z",
     "shell.execute_reply.started": "2022-01-19T06:30:19.150876Z"
    },
    "jupyter": {
     "outputs_hidden": false
    },
    "scrolled": true
   },
   "outputs": [],
   "source": [
    "\n",
    "import random\n",
    "from pathlib import Path\n",
    "\n",
    "root_path = Path(r'/home/aistudio')\n",
    "\n",
    "images_path = root_path/'img_train'\n",
    "labels_path = root_path/'lab_train'\n",
    "\n",
    "train_txt = open(root_path/'train.txt', 'w')\n",
    "val_txt = open(root_path/'val.txt', 'w')\n",
    "\n",
    "for label_path in labels_path.rglob('*.png'):\n",
    "    if random.random() < 0.9:\n",
    "        train_txt.write(f'{images_path}/{label_path.stem}.jpg {labels_path}/{label_path.name} \\n')\n",
    "    else:\n",
    "        val_txt.write(f'{images_path}/{label_path.stem}.jpg {labels_path}/{label_path.name} \\n')\n",
    "\n",
    "train_txt.close()\n",
    "val_txt.close()"
   ]
  },
  {
   "cell_type": "markdown",
   "metadata": {},
   "source": [
    "# 二、训练准备"
   ]
  },
  {
   "cell_type": "markdown",
   "metadata": {},
   "source": [
    "## 2.1 复制训练配置文件和基准文件"
   ]
  },
  {
   "cell_type": "code",
   "execution_count": 6,
   "metadata": {
    "execution": {
     "iopub.execute_input": "2022-01-19T06:30:19.874177Z",
     "iopub.status.busy": "2022-01-19T06:30:19.873852Z",
     "iopub.status.idle": "2022-01-19T06:30:20.502886Z",
     "shell.execute_reply": "2022-01-19T06:30:20.501972Z",
     "shell.execute_reply.started": "2022-01-19T06:30:19.874149Z"
    },
    "scrolled": true
   },
   "outputs": [],
   "source": [
    "!cp -r ccf_bci.yml  PaddleSeg/configs/_base_/ \n",
    "!mkdir PaddleSeg/configs/ccf_bci\n",
    "!cp -r model.yml  PaddleSeg/configs/ccf_bci/ "
   ]
  },
  {
   "cell_type": "markdown",
   "metadata": {},
   "source": [
    "```# _base_/ccf_bci.yml\n",
    "\n",
    "\n",
    "# 存放对数据集以及优化器的操作\n",
    "\n",
    "train_dataset:\n",
    "  type: Dataset\n",
    "  dataset_root: /home/aistudio/\n",
    "  train_path: /home/aistudio/train.txt\n",
    "  num_classes: 4\n",
    "  transforms:\n",
    "    - type: ResizeStepScaling\n",
    "      min_scale_factor: 0.5\n",
    "      max_scale_factor: 2.0\n",
    "      scale_step_size: 0.25\n",
    "    - type: RandomPaddingCrop\n",
    "      crop_size: [256, 256]\n",
    "    - type: RandomHorizontalFlip\n",
    "    - type: RandomDistort\n",
    "      brightness_range: 0.4\n",
    "      contrast_range: 0.4\n",
    "      saturation_range: 0.4\n",
    "    - type: Normalize\n",
    "  mode: train\n",
    "\n",
    "val_dataset:\n",
    "  type: Dataset\n",
    "  dataset_root: /home/aistudio/\n",
    "  val_path: /home/aistudio/val.txt\n",
    "  num_classes: 4\n",
    "  transforms:\n",
    "    - type: Normalize\n",
    "  mode: val\n",
    "\n",
    "\n",
    "optimizer:\n",
    "  type: sgd\n",
    "  momentum: 0.9\n",
    "  weight_decay: 4.0e-5\n",
    "\n",
    "lr_scheduler:\n",
    "  type: PolynomialDecay\n",
    "  learning_rate: 0.001\n",
    "  end_lr: 0\n",
    "  power: 0.9\n",
    "```"
   ]
  },
  {
   "cell_type": "markdown",
   "metadata": {},
   "source": [
    "```# model.yml\n",
    "_base_: '../_base_/ccf_bci.yml'\n",
    "\n",
    "batch_size: 64\n",
    "iters: 80000\n",
    "\n",
    "\n",
    "optimizer:\n",
    "  type: sgd\n",
    "  momentum: 0.9\n",
    "  weight_decay: 4.0e-5\n",
    "\n",
    "lr_scheduler:\n",
    "  type: PolynomialDecay\n",
    "  learning_rate: 0.01\n",
    "  end_lr: 0\n",
    "  power: 0.9\n",
    "\n",
    "loss:\n",
    "  types:\n",
    "    - type: MixedLoss\n",
    "      losses:\n",
    "        - type: CrossEntropyLoss\n",
    "        - type: LovaszSoftmaxLoss\n",
    "        - type: DiceLoss\n",
    "      coef: [0.6, 0.1, 0.3]\n",
    "  coef: [1]\n",
    "\n",
    "model:\n",
    "  type: FCN\n",
    "  backbone:\n",
    "    type: HRNet_W48\n",
    "    align_corners: False\n",
    "    pretrained: https://bj.bcebos.com/paddleseg/dygraph/hrnet_w48_ssld.tar.gz\n",
    "  backbone_indices: [-1]\n",
    "  pretrained: Null\n",
    "```"
   ]
  },
  {
   "cell_type": "markdown",
   "metadata": {},
   "source": [
    "## 2.3 开始训练"
   ]
  },
  {
   "cell_type": "code",
   "execution_count": 7,
   "metadata": {
    "execution": {
     "iopub.execute_input": "2022-01-19T06:30:20.504848Z",
     "iopub.status.busy": "2022-01-19T06:30:20.504295Z",
     "iopub.status.idle": "2022-01-19T06:30:56.989446Z",
     "shell.execute_reply": "2022-01-19T06:30:56.988642Z",
     "shell.execute_reply.started": "2022-01-19T06:30:20.504817Z"
    },
    "scrolled": true
   },
   "outputs": [
    {
     "name": "stdout",
     "output_type": "stream",
     "text": [
      "/home/aistudio\n",
      "/home/aistudio/PaddleSeg/paddleseg/cvlibs/param_init.py:89: DeprecationWarning: invalid escape sequence \\s\n",
      "  \"\"\"\n",
      "/home/aistudio/PaddleSeg/paddleseg/models/losses/binary_cross_entropy_loss.py:82: DeprecationWarning: invalid escape sequence \\|\n",
      "  \"\"\"\n",
      "/home/aistudio/PaddleSeg/paddleseg/models/losses/lovasz_loss.py:50: DeprecationWarning: invalid escape sequence \\i\n",
      "  \"\"\"\n",
      "/home/aistudio/PaddleSeg/paddleseg/models/losses/lovasz_loss.py:77: DeprecationWarning: invalid escape sequence \\i\n",
      "  \"\"\"\n",
      "/home/aistudio/PaddleSeg/paddleseg/models/losses/lovasz_loss.py:120: DeprecationWarning: invalid escape sequence \\i\n",
      "  \"\"\"\n",
      "2022-01-19 14:30:22 [INFO]\t\n",
      "------------Environment Information-------------\n",
      "platform: Linux-4.4.0-150-generic-x86_64-with-debian-stretch-sid\n",
      "Python: 3.7.4 (default, Aug 13 2019, 20:35:49) [GCC 7.3.0]\n",
      "Paddle compiled with cuda: True\n",
      "NVCC: Cuda compilation tools, release 10.1, V10.1.243\n",
      "cudnn: 7.6\n",
      "GPUs used: 1\n",
      "CUDA_VISIBLE_DEVICES: None\n",
      "GPU: ['GPU 0: Tesla V100-SXM2-32GB']\n",
      "GCC: gcc (Ubuntu 7.5.0-3ubuntu1~16.04) 7.5.0\n",
      "PaddlePaddle: 2.1.2\n",
      "OpenCV: 4.1.1\n",
      "------------------------------------------------\n",
      "2022-01-19 14:30:22 [INFO]\t\n",
      "---------------Config Information---------------\n",
      "batch_size: 64\n",
      "iters: 80000\n",
      "loss:\n",
      "  coef:\n",
      "  - 1\n",
      "  types:\n",
      "  - coef:\n",
      "    - 0.6\n",
      "    - 0.1\n",
      "    - 0.3\n",
      "    losses:\n",
      "    - type: CrossEntropyLoss\n",
      "    - type: LovaszSoftmaxLoss\n",
      "    - type: DiceLoss\n",
      "    type: MixedLoss\n",
      "lr_scheduler:\n",
      "  end_lr: 0\n",
      "  learning_rate: 0.01\n",
      "  power: 0.9\n",
      "  type: PolynomialDecay\n",
      "model:\n",
      "  backbone:\n",
      "    align_corners: false\n",
      "    pretrained: https://bj.bcebos.com/paddleseg/dygraph/hrnet_w48_ssld.tar.gz\n",
      "    type: HRNet_W48\n",
      "  backbone_indices:\n",
      "  - -1\n",
      "  pretrained: null\n",
      "  type: FCN\n",
      "optimizer:\n",
      "  momentum: 0.9\n",
      "  type: sgd\n",
      "  weight_decay: 4.0e-05\n",
      "train_dataset:\n",
      "  dataset_root: /home/aistudio/\n",
      "  mode: train\n",
      "  num_classes: 4\n",
      "  train_path: /home/aistudio/train.txt\n",
      "  transforms:\n",
      "  - max_scale_factor: 2.0\n",
      "    min_scale_factor: 0.5\n",
      "    scale_step_size: 0.25\n",
      "    type: ResizeStepScaling\n",
      "  - crop_size:\n",
      "    - 256\n",
      "    - 256\n",
      "    type: RandomPaddingCrop\n",
      "  - type: RandomHorizontalFlip\n",
      "  - brightness_range: 0.4\n",
      "    contrast_range: 0.4\n",
      "    saturation_range: 0.4\n",
      "    type: RandomDistort\n",
      "  - type: Normalize\n",
      "  type: Dataset\n",
      "val_dataset:\n",
      "  dataset_root: /home/aistudio/\n",
      "  mode: val\n",
      "  num_classes: 4\n",
      "  transforms:\n",
      "  - type: Normalize\n",
      "  type: Dataset\n",
      "  val_path: /home/aistudio/val.txt\n",
      "------------------------------------------------\n",
      "W0119 14:30:22.972872  2997 device_context.cc:404] Please NOTE: device: 0, GPU Compute Capability: 7.0, Driver API Version: 10.1, Runtime API Version: 10.1\n",
      "W0119 14:30:22.972940  2997 device_context.cc:422] device: 0, cuDNN Version: 7.6.\n",
      "2022-01-19 14:30:28 [INFO]\tLoading pretrained model from https://bj.bcebos.com/paddleseg/dygraph/hrnet_w48_ssld.tar.gz\n",
      "2022-01-19 14:30:31 [INFO]\tThere are 1525/1525 variables loaded into HRNet.\n",
      "/opt/conda/envs/python35-paddle120-env/lib/python3.7/site-packages/paddle/fluid/dygraph/math_op_patch.py:239: UserWarning: The dtype of left and right variables are not the same, left dtype is paddle.float32, but right dtype is paddle.bool, the right dtype will convert to paddle.float32\n",
      "  format(lhs_dtype, rhs_dtype, lhs_dtype))\n",
      "2022-01-19 14:30:44 [INFO]\t[TRAIN] epoch: 1, iter: 10/80000, loss: 1.1011, lr: 0.009999, batch_cost: 1.2357, reader_cost: 0.08027, ips: 51.7927 samples/sec | ETA 27:27:23\n",
      "2022-01-19 14:30:56 [INFO]\t[TRAIN] epoch: 1, iter: 20/80000, loss: 0.9778, lr: 0.009998, batch_cost: 1.1569, reader_cost: 0.00015, ips: 55.3182 samples/sec | ETA 25:42:12\n",
      "^C\n",
      "Traceback (most recent call last):\n",
      "  File \"PaddleSeg/train.py\", line 168, in <module>\n",
      "    main(args)\n",
      "  File \"PaddleSeg/train.py\", line 163, in main\n",
      "    keep_checkpoint_max=args.keep_checkpoint_max)\n",
      "  File \"/home/aistudio/PaddleSeg/paddleseg/core/train.py\", line 146, in train\n",
      "    logits_list = model(images)\n",
      "  File \"/opt/conda/envs/python35-paddle120-env/lib/python3.7/site-packages/paddle/fluid/dygraph/layers.py\", line 902, in __call__\n",
      "    outputs = self.forward(*inputs, **kwargs)\n",
      "  File \"/home/aistudio/PaddleSeg/paddleseg/models/fcn.py\", line 67, in forward\n",
      "    feat_list = self.backbone(x)\n",
      "  File \"/opt/conda/envs/python35-paddle120-env/lib/python3.7/site-packages/paddle/fluid/dygraph/layers.py\", line 902, in __call__\n",
      "    outputs = self.forward(*inputs, **kwargs)\n",
      "  File \"/home/aistudio/PaddleSeg/paddleseg/models/backbones/hrnet.py\", line 169, in forward\n",
      "    st4 = self.st4(tr3)\n",
      "  File \"/opt/conda/envs/python35-paddle120-env/lib/python3.7/site-packages/paddle/fluid/dygraph/layers.py\", line 902, in __call__\n",
      "    outputs = self.forward(*inputs, **kwargs)\n",
      "  File \"/home/aistudio/PaddleSeg/paddleseg/models/backbones/hrnet.py\", line 506, in forward\n",
      "    out = self.stage_func_list[idx](out)\n",
      "  File \"/opt/conda/envs/python35-paddle120-env/lib/python3.7/site-packages/paddle/fluid/dygraph/layers.py\", line 902, in __call__\n",
      "    outputs = self.forward(*inputs, **kwargs)\n",
      "  File \"/home/aistudio/PaddleSeg/paddleseg/models/backbones/hrnet.py\", line 537, in forward\n",
      "    out = self.fuse_func(out)\n",
      "  File \"/opt/conda/envs/python35-paddle120-env/lib/python3.7/site-packages/paddle/fluid/dygraph/layers.py\", line 902, in __call__\n",
      "    outputs = self.forward(*inputs, **kwargs)\n",
      "  File \"/home/aistudio/PaddleSeg/paddleseg/models/backbones/hrnet.py\", line 616, in forward\n",
      "    y = self.residual_func_list[residual_func_idx](y)\n",
      "  File \"/opt/conda/envs/python35-paddle120-env/lib/python3.7/site-packages/paddle/fluid/dygraph/layers.py\", line 902, in __call__\n",
      "    outputs = self.forward(*inputs, **kwargs)\n",
      "  File \"/home/aistudio/PaddleSeg/paddleseg/models/layers/layer_libs.py\", line 45, in forward\n",
      "    x = self._conv(x)\n",
      "  File \"/opt/conda/envs/python35-paddle120-env/lib/python3.7/site-packages/paddle/fluid/dygraph/layers.py\", line 902, in __call__\n",
      "    outputs = self.forward(*inputs, **kwargs)\n",
      "  File \"/opt/conda/envs/python35-paddle120-env/lib/python3.7/site-packages/paddle/nn/layer/conv.py\", line 667, in forward\n",
      "    use_cudnn=self._use_cudnn)\n",
      "  File \"/opt/conda/envs/python35-paddle120-env/lib/python3.7/site-packages/paddle/nn/functional/conv.py\", line 114, in _conv_nd\n",
      "    pre_bias = getattr(core.ops, op_type)(x, weight, *attrs)\n",
      "KeyboardInterrupt\n"
     ]
    }
   ],
   "source": [
    "# 项目运行\n",
    "%cd ~\n",
    "\n",
    "# 模型训练\n",
    "\n",
    "!python PaddleSeg/train.py \\\n",
    "       --config PaddleSeg/configs/ccf_bci/model.yml \\\n",
    "       --do_eval \\\n",
    "       --use_vdl \\\n",
    "       --save_interval 9360 \\\n",
    "       --save_dir output_loss_mixed_1 \\"
   ]
  },
  {
   "cell_type": "markdown",
   "metadata": {},
   "source": [
    "模型预测时希望将预测的结果直接作为提交结果，但是paddleseg默认预测的结果是增加权重后生成的图片，所以对paddleseg的源码进行了修改。修改的文件为work/PaddleSeg/paddleseg/core/predict.py，修改后是下面这段代码"
   ]
  },
  {
   "cell_type": "code",
   "execution_count": 8,
   "metadata": {
    "execution": {
     "iopub.execute_input": "2022-01-19T06:30:56.991343Z",
     "iopub.status.busy": "2022-01-19T06:30:56.990793Z",
     "iopub.status.idle": "2022-01-19T06:30:57.202849Z",
     "shell.execute_reply": "2022-01-19T06:30:57.201948Z",
     "shell.execute_reply.started": "2022-01-19T06:30:56.991309Z"
    },
    "scrolled": true
   },
   "outputs": [],
   "source": [
    "!cp -r predict.py  PaddleSeg/paddleseg/core/ "
   ]
  },
  {
   "cell_type": "markdown",
   "metadata": {},
   "source": [
    "```\n",
    "# Copyright (c) 2020 PaddlePaddle Authors. All Rights Reserved.\n",
    "#\n",
    "# Licensed under the Apache License, Version 2.0 (the \"License\");\n",
    "# you may not use this file except in compliance with the License.\n",
    "# You may obtain a copy of the License at\n",
    "#\n",
    "#    http://www.apache.org/licenses/LICENSE-2.0\n",
    "#\n",
    "# Unless required by applicable law or agreed to in writing, software\n",
    "# distributed under the License is distributed on an \"AS IS\" BASIS,\n",
    "# WITHOUT WARRANTIES OR CONDITIONS OF ANY KIND, either express or implied.\n",
    "# See the License for the specific language governing permissions and\n",
    "# limitations under the License.\n",
    "\n",
    "\n",
    "import os\n",
    "import math\n",
    "\n",
    "import cv2\n",
    "import numpy as np\n",
    "import paddle\n",
    "\n",
    "from paddleseg import utils\n",
    "from paddleseg.core import infer\n",
    "from paddleseg.utils import logger, progbar\n",
    "\n",
    "\n",
    "def mkdir(path):\n",
    "    sub_dir = os.path.dirname(path)\n",
    "    if not os.path.exists(sub_dir):\n",
    "        os.makedirs(sub_dir)\n",
    "\n",
    "\n",
    "def partition_list(arr, m):\n",
    "    \"\"\"split the list 'arr' into m pieces\"\"\"\n",
    "    n = int(math.ceil(len(arr) / float(m)))\n",
    "    return [arr[i:i + n] for i in range(0, len(arr), n)]\n",
    "\n",
    "\n",
    "# 修改predict函数\n",
    "def predict(model,\n",
    "            model_path,\n",
    "            transforms,\n",
    "            image_list,\n",
    "            image_dir=None,\n",
    "            save_dir='output',\n",
    "            aug_pred=False,\n",
    "            scales=1.0,\n",
    "            flip_horizontal=True,\n",
    "            flip_vertical=False,\n",
    "            is_slide=False,\n",
    "            stride=None,\n",
    "            crop_size=None):\n",
    "    \"\"\"\n",
    "    predict and visualize the image_list.\n",
    "\n",
    "    Args:\n",
    "        model (nn.Layer): Used to predict for input image.\n",
    "        model_path (str): The path of pretrained model.\n",
    "        transforms (transform.Compose): Preprocess for input image.\n",
    "        image_list (list): A list of image path to be predicted.\n",
    "        image_dir (str, optional): The root directory of the images predicted. Default: None.\n",
    "        save_dir (str, optional): The directory to save the visualized results. Default: 'output'.\n",
    "        aug_pred (bool, optional): Whether to use mulit-scales and flip augment for predition. Default: False.\n",
    "        scales (list|float, optional): Scales for augment. It is valid when `aug_pred` is True. Default: 1.0.\n",
    "        flip_horizontal (bool, optional): Whether to use flip horizontally augment. It is valid when `aug_pred` is True. Default: True.\n",
    "        flip_vertical (bool, optional): Whether to use flip vertically augment. It is valid when `aug_pred` is True. Default: False.\n",
    "        is_slide (bool, optional): Whether to predict by sliding window. Default: False.\n",
    "        stride (tuple|list, optional): The stride of sliding window, the first is width and the second is height.\n",
    "            It should be provided when `is_slide` is True.\n",
    "        crop_size (tuple|list, optional):  The crop size of sliding window, the first is width and the second is height.\n",
    "            It should be provided when `is_slide` is True.\n",
    "\n",
    "    \"\"\"\n",
    "    utils.utils.load_entire_model(model, model_path)\n",
    "    model.eval()\n",
    "    nranks = paddle.distributed.get_world_size()\n",
    "    local_rank = paddle.distributed.get_rank()\n",
    "    if nranks > 1:\n",
    "        img_lists = partition_list(image_list, nranks)\n",
    "    else:\n",
    "        img_lists = [image_list]\n",
    "\n",
    "    added_saved_dir = os.path.join(save_dir, 'added_prediction')\n",
    "    pred_saved_dir = os.path.join(save_dir, 'pseudo_color_prediction')\n",
    "\n",
    "    logger.info(\"Start to predict...\")\n",
    "    progbar_pred = progbar.Progbar(target=len(img_lists[0]), verbose=1)\n",
    "    with paddle.no_grad():\n",
    "        for i, im_path in enumerate(img_lists[local_rank]):\n",
    "            im = cv2.imread(im_path)\n",
    "            ori_shape = im.shape[:2]\n",
    "            im, _ = transforms(im)\n",
    "            im = im[np.newaxis, ...]\n",
    "            im = paddle.to_tensor(im)\n",
    "\n",
    "            if aug_pred:\n",
    "                pred = infer.aug_inference(\n",
    "                    model,\n",
    "                    im,\n",
    "                    ori_shape=ori_shape,\n",
    "                    transforms=transforms.transforms,\n",
    "                    scales=scales,\n",
    "                    flip_horizontal=flip_horizontal,\n",
    "                    flip_vertical=flip_vertical,\n",
    "                    is_slide=is_slide,\n",
    "                    stride=stride,\n",
    "                    crop_size=crop_size)\n",
    "            else:\n",
    "                pred = infer.inference(\n",
    "                    model,\n",
    "                    im,\n",
    "                    ori_shape=ori_shape,\n",
    "                    transforms=transforms.transforms,\n",
    "                    is_slide=is_slide,\n",
    "                    stride=stride,\n",
    "                    crop_size=crop_size)\n",
    "            pred = paddle.squeeze(pred)\n",
    "            pred = pred.numpy().astype('uint8')\n",
    "\n",
    "            # get the saved name\n",
    "            if image_dir is not None:\n",
    "                im_file = im_path.replace(image_dir, '')\n",
    "            else:\n",
    "                im_file = os.path.basename(im_path)\n",
    "            if im_file[0] == '/' or im_file[0] == '\\\\':\n",
    "                im_file = im_file[1:]\n",
    "\n",
    "            # 修改预测后的图片\n",
    "            pred_saved_path = os.path.join(save_dir, im_file.rsplit(\".\")[0] + \".png\")\n",
    "            mkdir(pred_saved_path)\n",
    "            cv2.imwrite(pred_saved_path, pred)\n",
    "\n",
    "            progbar_pred.update(i + 1)\n",
    "            ```\n"
   ]
  },
  {
   "cell_type": "markdown",
   "metadata": {},
   "source": [
    "# 三、预测\n",
    "将预测完成后的文件提取打包提交即可"
   ]
  },
  {
   "cell_type": "code",
   "execution_count": null,
   "metadata": {
    "collapsed": false,
    "execution": {
     "iopub.status.busy": "2022-01-19T06:30:58.601939Z",
     "iopub.status.idle": "2022-01-19T06:30:58.602619Z",
     "shell.execute_reply": "2022-01-19T06:30:58.602465Z",
     "shell.execute_reply.started": "2022-01-19T06:30:58.602444Z"
    },
    "jupyter": {
     "outputs_hidden": false
    },
    "scrolled": true
   },
   "outputs": [],
   "source": [
    "%cd ~\n",
    "# 模型预测\n",
    "!python PaddleSeg/predict.py \\\n",
    "       --config PaddleSeg/configs/ccf_bci/model.yml \\\n",
    "       --model_path output_loss_mixed_1/best_model/model.pdparams \\\n",
    "       --image_path img_testA \\\n",
    "       --save_dir result/"
   ]
  }
 ],
 "metadata": {
  "kernelspec": {
   "display_name": "Python 3",
   "language": "python",
   "name": "py35-paddle1.2.0"
  },
  "language_info": {
   "codemirror_mode": {
    "name": "ipython",
    "version": 3
   },
   "file_extension": ".py",
   "mimetype": "text/x-python",
   "name": "python",
   "nbconvert_exporter": "python",
   "pygments_lexer": "ipython3",
   "version": "3.7.4"
  }
 },
 "nbformat": 4,
 "nbformat_minor": 4
}
